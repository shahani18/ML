{
 "cells": [
  {
   "cell_type": "code",
   "execution_count": 3,
   "metadata": {},
   "outputs": [],
   "source": [
    "%matplotlib inline\n",
    "\n",
    "import matplotlib.pyplot as plt\n",
    "import matplotlib.image as mpimg\n",
    "import tensorflow as tf\n",
    "import numpy as np\n",
    "from itertools import cycle\n",
    "\n",
    "from sklearn import svm, datasets\n",
    "from sklearn.metrics import roc_curve, auc\n",
    "from sklearn.model_selection import train_test_split\n",
    "from sklearn.preprocessing import label_binarize\n",
    "from sklearn.multiclass import OneVsRestClassifier\n",
    "from scipy import interp\n",
    "from sklearn.metrics import roc_auc_score\n",
    "from tensorflow.keras.preprocessing.image import ImageDataGenerator"
   ]
  },
  {
   "cell_type": "code",
   "execution_count": 4,
   "metadata": {},
   "outputs": [],
   "source": [
    "import os\n",
    "# Directory with our training good pictures\n",
    "train_good_dir = os.path.join('ImgC/train/good')\n",
    "\n",
    "# Directory with our training bad pictures\n",
    "train_bad_dir = os.path.join('ImgC/train/bad')\n",
    "\n",
    "# Directory with our validation good pictures\n",
    "valid_good_dir = os.path.join('ImgC//test/good')\n",
    "\n",
    "# Directory with our validation bad pictures\n",
    "valid_bad_dir = os.path.join('ImgC/test/bad')"
   ]
  },
  {
   "cell_type": "code",
   "execution_count": 5,
   "metadata": {},
   "outputs": [
    {
     "name": "stdout",
     "output_type": "stream",
     "text": [
      "['PE170DL70P-30-C(Security-C)_7_4.png', 'PE170DL70P-03-C(Security-C)_24_7.png', 'PE170DL70P-01-C(Security-C)_33_8.png', 'PE170DL70P-27-C(Security-C)_10_9.png', 'PE170DL70P-03-C(Security-C)_12_4.png']\n",
      "['PE170DL70P-19-C(Security-C)_17_3.png', 'PE170DL70P-29-C(Security-C)_24_9.png', 'PE170DL70P-17-C(Security-C)_29_2.png', 'PE170DL70P-30-C(Security-C)_32_6.png', 'PE170DL70P-10-C(Security-C)_3_8.png']\n",
      "['PE170DL70P-09-C(Security-C)_4_8.png', 'PE170DL70P-07-C(Security-C)_24_2.png', 'PE170DL70P-07-C(Security-C)_16_8.png', 'PE170DL70P-16-C(Security-C)_14_8.png', 'PE170DL70P-08-C(Security-C)_24_6.png']\n",
      "['PE170DL70P-13-C(Security-C)_19_4.png', 'PE170DL70P-12-C(Security-C)_23_1.png', 'PE170DL70P-10-C(Security-C)_25_3.png', 'PE170DL70P-18-C(Security-C)_16_3.png', 'PE170DL70P-32-C(Security-C)_21_8.png']\n"
     ]
    }
   ],
   "source": [
    "train_good_names = os.listdir(train_good_dir)\n",
    "print(train_good_names[:5])\n",
    "\n",
    "train_bad_names = os.listdir(train_bad_dir)\n",
    "print(train_bad_names[:5])\n",
    "\n",
    "validation_good_names = os.listdir(valid_good_dir)\n",
    "print(validation_good_names[:5])\n",
    "\n",
    "validation_bad_names = os.listdir(valid_bad_dir)\n",
    "print(validation_bad_names[:5])"
   ]
  },
  {
   "cell_type": "code",
   "execution_count": 29,
   "metadata": {},
   "outputs": [
    {
     "name": "stdout",
     "output_type": "stream",
     "text": [
      "total training good images: 1465\n",
      "total training bad images: 651\n",
      "total validation good images: 262\n",
      "total validation bad images: 114\n"
     ]
    }
   ],
   "source": [
    "print('total training good images:', len(os.listdir(train_good_dir)))\n",
    "print('total training bad images:', len(os.listdir(train_bad_dir)))\n",
    "print('total validation good images:', len(os.listdir(valid_good_dir)))\n",
    "print('total validation bad images:', len(os.listdir(valid_bad_dir)))"
   ]
  },
  {
   "cell_type": "code",
   "execution_count": 30,
   "metadata": {},
   "outputs": [],
   "source": [
    "# Parameters for our graph; we'll output images in a 4x4 configuration\n",
    "nrows = 4\n",
    "ncols = 4\n",
    "\n",
    "# Index for iterating over images\n",
    "pic_index = 0"
   ]
  },
  {
   "cell_type": "code",
   "execution_count": 2,
   "metadata": {},
   "outputs": [
    {
     "ename": "NameError",
     "evalue": "name 'plt' is not defined",
     "output_type": "error",
     "traceback": [
      "\u001b[0;31m---------------------------------------------------------------------------\u001b[0m",
      "\u001b[0;31mNameError\u001b[0m                                 Traceback (most recent call last)",
      "\u001b[0;32m<ipython-input-2-71399e58e142>\u001b[0m in \u001b[0;36m<module>\u001b[0;34m\u001b[0m\n\u001b[1;32m      1\u001b[0m \u001b[0;31m# Set up matplotlib fig, and size it to fit 4x4 pics\u001b[0m\u001b[0;34m\u001b[0m\u001b[0;34m\u001b[0m\u001b[0m\n\u001b[0;32m----> 2\u001b[0;31m \u001b[0mfig\u001b[0m \u001b[0;34m=\u001b[0m \u001b[0mplt\u001b[0m\u001b[0;34m.\u001b[0m\u001b[0mgcf\u001b[0m\u001b[0;34m(\u001b[0m\u001b[0;34m)\u001b[0m\u001b[0;34m\u001b[0m\u001b[0m\n\u001b[0m\u001b[1;32m      3\u001b[0m \u001b[0mfig\u001b[0m\u001b[0;34m.\u001b[0m\u001b[0mset_size_inches\u001b[0m\u001b[0;34m(\u001b[0m\u001b[0mncols\u001b[0m \u001b[0;34m*\u001b[0m \u001b[0;36m4\u001b[0m\u001b[0;34m,\u001b[0m \u001b[0mnrows\u001b[0m \u001b[0;34m*\u001b[0m \u001b[0;36m4\u001b[0m\u001b[0;34m)\u001b[0m\u001b[0;34m\u001b[0m\u001b[0m\n\u001b[1;32m      4\u001b[0m \u001b[0;34m\u001b[0m\u001b[0m\n\u001b[1;32m      5\u001b[0m \u001b[0mpic_index\u001b[0m \u001b[0;34m+=\u001b[0m \u001b[0;36m8\u001b[0m\u001b[0;34m\u001b[0m\u001b[0m\n",
      "\u001b[0;31mNameError\u001b[0m: name 'plt' is not defined"
     ]
    }
   ],
   "source": [
    "# Set up matplotlib fig, and size it to fit 4x4 pics\n",
    "fig = plt.gcf()\n",
    "fig.set_size_inches(ncols * 4, nrows * 4)\n",
    "\n",
    "pic_index += 8\n",
    "next_good_pic = [os.path.join(train_good_dir, fname) \n",
    "                for fname in train_good_names[pic_index-8:pic_index]]\n",
    "next_bad_pic = [os.path.join(train_bad_dir, fname) \n",
    "                for fname in train_bad_names[pic_index-8:pic_index]]\n",
    "\n",
    "for i, img_path in enumerate(next_good_pic + next_bad_pic):\n",
    "  # Set up subplot; subplot indices start at 1\n",
    "  sp = plt.subplot(nrows, ncols, i + 1)\n",
    "  sp.axis('Off') # Don't show axes (or gridlines)\n",
    "\n",
    "  img = mpimg.imread(img_path)\n",
    "  #plt.imshow(img)\n",
    "\n",
    "#plt.show()"
   ]
  },
  {
   "cell_type": "code",
   "execution_count": 51,
   "metadata": {},
   "outputs": [
    {
     "name": "stdout",
     "output_type": "stream",
     "text": [
      "Found 2115 images belonging to 2 classes.\n",
      "Found 376 images belonging to 2 classes.\n"
     ]
    }
   ],
   "source": [
    "from tensorflow.keras.preprocessing.image import ImageDataGenerator\n",
    "\n",
    "# All images will be rescaled by 1./255\n",
    "train_datagen = ImageDataGenerator(rescale=1/255,\n",
    "                                   shear_range = 0.15,\n",
    "                                   zoom_range = 0.15,\n",
    "                                   horizontal_flip = True)\n",
    "validation_datagen = ImageDataGenerator(rescale=1/255,\n",
    "                                       shear_range = 0.15,\n",
    "                                        zoom_range = 0.15,\n",
    "                                   horizontal_flip = True)\n",
    "\n",
    "# Flow training images in batches of 120 using train_datagen generator\n",
    "train_generator = train_datagen.flow_from_directory(\n",
    "        'ImgC/train/',  # This is the source directory for training images\n",
    "        classes = ['good', 'bad'],\n",
    "        target_size=(74, 74),  # All images will be resized to 74x74\n",
    "        batch_size=40,\n",
    "        # Use binary labels\n",
    "        class_mode='binary')\n",
    "\n",
    "# Flow validation images in batches of 19 using valid_datagen generator\n",
    "validation_generator = validation_datagen.flow_from_directory(\n",
    "        'ImgC/test/',  # This is the source directory for training images\n",
    "        classes = ['good', 'bad'],\n",
    "        target_size=(74, 74),  # All images will be resized to 74x74\n",
    "        batch_size=19,\n",
    "        # Use binary labels\n",
    "        class_mode='binary',\n",
    "        shuffle=False)"
   ]
  },
  {
   "cell_type": "code",
   "execution_count": 64,
   "metadata": {},
   "outputs": [],
   "source": [
    "model = tf.keras.models.Sequential([tf.keras.layers.Flatten(input_shape = (74,74,3)), \n",
    "                                    #tf.keras.layers.Dense(32, activation=tf.nn.relu),\n",
    "                                    #tf.keras.layers.Dense(64, activation=tf.nn.relu),\n",
    "                                    tf.keras.layers.Dense(128, activation=tf.nn.relu),\n",
    "                                    #tf.keras.layers.Dense(256, activation=tf.nn.relu),\n",
    "                                    #tf.keras.layers.Dense(512, activation=tf.nn.relu),\n",
    "                                    tf.keras.layers.Dropout(0.1),\n",
    "                                    tf.keras.layers.Dense(1, activation=tf.nn.sigmoid),\n",
    "                                    ])"
   ]
  },
  {
   "cell_type": "code",
   "execution_count": 65,
   "metadata": {},
   "outputs": [
    {
     "name": "stdout",
     "output_type": "stream",
     "text": [
      "_________________________________________________________________\n",
      "Layer (type)                 Output Shape              Param #   \n",
      "=================================================================\n",
      "flatten_13 (Flatten)         (None, 16428)             0         \n",
      "_________________________________________________________________\n",
      "dense_26 (Dense)             (None, 128)               2102912   \n",
      "_________________________________________________________________\n",
      "dropout_11 (Dropout)         (None, 128)               0         \n",
      "_________________________________________________________________\n",
      "dense_27 (Dense)             (None, 1)                 129       \n",
      "=================================================================\n",
      "Total params: 2,103,041\n",
      "Trainable params: 2,103,041\n",
      "Non-trainable params: 0\n",
      "_________________________________________________________________\n"
     ]
    }
   ],
   "source": [
    "model.summary()"
   ]
  },
  {
   "cell_type": "code",
   "execution_count": 66,
   "metadata": {},
   "outputs": [],
   "source": [
    "# tell the model what cost and optimization method to use\n",
    "model.compile(\n",
    "  loss='binary_crossentropy',\n",
    "  optimizer='adam',\n",
    "  metrics=['accuracy']\n",
    ")"
   ]
  },
  {
   "cell_type": "code",
   "execution_count": 67,
   "metadata": {
    "scrolled": true
   },
   "outputs": [
    {
     "name": "stdout",
     "output_type": "stream",
     "text": [
      "Epoch 1/10\n",
      "20/20 [==============================] - 1s 40ms/step - loss: 5.0051 - acc: 0.6968\n",
      "53/53 [==============================] - 4s 82ms/step - loss: 4.8731 - acc: 0.6865 - val_loss: 5.0051 - val_acc: 0.6968\n",
      "Epoch 2/10\n",
      "20/20 [==============================] - 1s 40ms/step - loss: 5.0051 - acc: 0.6968\n",
      "53/53 [==============================] - 4s 80ms/step - loss: 4.9572 - acc: 0.6922 - val_loss: 5.0051 - val_acc: 0.6968\n",
      "Epoch 3/10\n",
      "20/20 [==============================] - 1s 39ms/step - loss: 5.0051 - acc: 0.6968\n",
      "53/53 [==============================] - 4s 79ms/step - loss: 4.9646 - acc: 0.6922 - val_loss: 5.0051 - val_acc: 0.6968\n",
      "Epoch 4/10\n",
      "20/20 [==============================] - 1s 40ms/step - loss: 5.0051 - acc: 0.6968\n",
      "53/53 [==============================] - 4s 80ms/step - loss: 4.9603 - acc: 0.6922 - val_loss: 5.0051 - val_acc: 0.6968\n",
      "Epoch 5/10\n",
      "20/20 [==============================] - 1s 40ms/step - loss: 5.0051 - acc: 0.6968\n",
      "53/53 [==============================] - 4s 80ms/step - loss: 4.9593 - acc: 0.6922 - val_loss: 5.0051 - val_acc: 0.6968\n",
      "Epoch 6/10\n",
      "20/20 [==============================] - 1s 40ms/step - loss: 5.0051 - acc: 0.6968\n",
      "53/53 [==============================] - 4s 80ms/step - loss: 4.9657 - acc: 0.6922 - val_loss: 5.0051 - val_acc: 0.6968\n",
      "Epoch 7/10\n",
      "20/20 [==============================] - 1s 39ms/step - loss: 5.0051 - acc: 0.6968\n",
      "53/53 [==============================] - 4s 80ms/step - loss: 4.9593 - acc: 0.6922 - val_loss: 5.0051 - val_acc: 0.6968\n",
      "Epoch 8/10\n",
      "20/20 [==============================] - 1s 41ms/step - loss: 5.0051 - acc: 0.6968\n",
      "53/53 [==============================] - 4s 80ms/step - loss: 4.9614 - acc: 0.6922 - val_loss: 5.0051 - val_acc: 0.6968\n",
      "Epoch 9/10\n",
      "20/20 [==============================] - 1s 41ms/step - loss: 5.0051 - acc: 0.6968\n",
      "53/53 [==============================] - 4s 82ms/step - loss: 4.9603 - acc: 0.6922 - val_loss: 5.0051 - val_acc: 0.6968\n",
      "Epoch 10/10\n",
      "20/20 [==============================] - 1s 39ms/step - loss: 5.0051 - acc: 0.6968\n",
      "53/53 [==============================] - 4s 79ms/step - loss: 4.9625 - acc: 0.6922 - val_loss: 5.0051 - val_acc: 0.6968\n"
     ]
    }
   ],
   "source": [
    "# history = model.fit(\n",
    "#       train_generator,\n",
    "#       steps_per_epoch=8,  \n",
    "#       epochs=15,\n",
    "#       verbose=1,\n",
    "#       validation_data = validation_generator,\n",
    "#       validation_steps=8)\n",
    "\n",
    "history = model.fit(train_generator,\n",
    "      steps_per_epoch=32,  \n",
    "      epochs=10,\n",
    "      verbose=1,\n",
    "      validation_data = validation_generator,\n",
    "      validation_steps=8)"
   ]
  },
  {
   "cell_type": "code",
   "execution_count": 63,
   "metadata": {},
   "outputs": [
    {
     "name": "stdout",
     "output_type": "stream",
     "text": [
      "20/20 [==============================] - 1s 38ms/step\n"
     ]
    }
   ],
   "source": [
    "STEP_SIZE_TEST=validation_generator.n//validation_generator.batch_size\n",
    "validation_generator.reset()\n",
    "preds = model.predict(validation_generator,\n",
    "                      verbose=1)"
   ]
  },
  {
   "cell_type": "code",
   "execution_count": 38,
   "metadata": {},
   "outputs": [],
   "source": [
    "fpr, tpr, _ = roc_curve(validation_generator.classes, preds)\n",
    "roc_auc = auc(fpr, tpr)"
   ]
  },
  {
   "cell_type": "code",
   "execution_count": 39,
   "metadata": {},
   "outputs": [
    {
     "data": {
      "image/png": "[encoded data removed]",
      "text/plain": [
       "<Figure size 432x288 with 1 Axes>"
      ]
     },
     "metadata": {
      "needs_background": "light"
     },
     "output_type": "display_data"
    }
   ],
   "source": [
    "plt.figure()\n",
    "lw = 2\n",
    "plt.plot(fpr, tpr, color='darkorange',\n",
    "         lw=lw, label='ROC curve (area = %0.2f)' % roc_auc)\n",
    "plt.plot([0, 1], [0, 1], color='navy', lw=lw, linestyle='--')\n",
    "plt.xlim([0.0, 1.0])\n",
    "plt.ylim([0.0, 1.05])\n",
    "plt.xlabel('False Positive Rate')\n",
    "plt.ylabel('True Positive Rate')\n",
    "plt.title('Receiver Operating Characteristic')\n",
    "plt.legend(loc=\"lower right\")\n",
    "plt.show()"
   ]
  },
  {
   "cell_type": "code",
   "execution_count": null,
   "metadata": {},
   "outputs": [],
   "source": []
  }
 ],
 "metadata": {
  "kernelspec": {
   "display_name": "Python 3",
   "language": "python",
   "name": "python3"
  },
  "language_info": {
   "codemirror_mode": {
    "name": "ipython",
    "version": 3
   },
   "file_extension": ".py",
   "mimetype": "text/x-python",
   "name": "python",
   "nbconvert_exporter": "python",
   "pygments_lexer": "ipython3",
   "version": "3.5.2"
  }
 },
 "nbformat": 4,
 "nbformat_minor": 2
}
